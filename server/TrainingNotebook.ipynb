{
 "cells": [
  {
   "cell_type": "code",
   "execution_count": 1,
   "metadata": {},
   "outputs": [],
   "source": [
    "from src.data import Cifar10Data\n",
    "from src.model import getModel\n",
    "from src.training import train_model"
   ]
  },
  {
   "cell_type": "code",
   "execution_count": 2,
   "metadata": {},
   "outputs": [
    {
     "name": "stdout",
     "output_type": "stream",
     "text": [
      "Files already downloaded and verified\n",
      "Files already downloaded and verified\n"
     ]
    }
   ],
   "source": [
    "data = Cifar10Data()"
   ]
  },
  {
   "cell_type": "code",
   "execution_count": 3,
   "metadata": {},
   "outputs": [
    {
     "name": "stdout",
     "output_type": "stream",
     "text": [
      "The model is in training mode\n",
      "No of params in model is  6956298\n",
      "model is loaded on GPU True\n"
     ]
    }
   ],
   "source": [
    "model = getModel(training=True,num_classes=data.num_classes)"
   ]
  },
  {
   "cell_type": "code",
   "execution_count": 5,
   "metadata": {},
   "outputs": [
    {
     "name": "stderr",
     "output_type": "stream",
     "text": [
      "Epochs:  10%|█         | 1/10 [01:27<13:06, 87.42s/it]"
     ]
    },
    {
     "name": "stdout",
     "output_type": "stream",
     "text": [
      "Saving the current best model. Previous best loss = inf Current best loss = 1.4645100887298583\n",
      "[ Epochs 0 | 10 ] :  train Loss: 1.4152 Acc: 0.4841 val Loss: 1.4645 Acc: 0.5028\n"
     ]
    },
    {
     "name": "stderr",
     "output_type": "stream",
     "text": [
      "\r",
      "Epochs:  20%|██        | 2/10 [02:37<10:58, 82.34s/it]"
     ]
    },
    {
     "name": "stdout",
     "output_type": "stream",
     "text": [
      "Saving the current best model. Previous best loss = 1.4645100887298583 Current best loss = 0.8584263829231262\n",
      "[ Epochs 1 | 10 ] :  train Loss: 0.9305 Acc: 0.6694 val Loss: 0.8584 Acc: 0.7027\n"
     ]
    },
    {
     "name": "stderr",
     "output_type": "stream",
     "text": [
      "\r",
      "Epochs:  30%|███       | 3/10 [03:50<09:16, 79.54s/it]"
     ]
    },
    {
     "name": "stdout",
     "output_type": "stream",
     "text": [
      "Saving the current best model. Previous best loss = 0.8584263829231262 Current best loss = 0.7046102540969849\n",
      "[ Epochs 2 | 10 ] :  train Loss: 0.7199 Acc: 0.7483 val Loss: 0.7046 Acc: 0.7559\n"
     ]
    },
    {
     "name": "stderr",
     "output_type": "stream",
     "text": [
      "\r",
      "Epochs:  40%|████      | 4/10 [05:04<07:47, 77.84s/it]"
     ]
    },
    {
     "name": "stdout",
     "output_type": "stream",
     "text": [
      "[ Epochs 3 | 10 ] :  train Loss: 0.5833 Acc: 0.7961 val Loss: 0.7230 Acc: 0.7549\n"
     ]
    },
    {
     "name": "stderr",
     "output_type": "stream",
     "text": [
      "\r",
      "Epochs:  50%|█████     | 5/10 [06:18<06:23, 76.60s/it]"
     ]
    },
    {
     "name": "stdout",
     "output_type": "stream",
     "text": [
      "Saving the current best model. Previous best loss = 0.7046102540969849 Current best loss = 0.668228279876709\n",
      "[ Epochs 4 | 10 ] :  train Loss: 0.5044 Acc: 0.8259 val Loss: 0.6682 Acc: 0.7807\n"
     ]
    },
    {
     "name": "stderr",
     "output_type": "stream",
     "text": [
      "\r",
      "Epochs:  60%|██████    | 6/10 [07:32<05:03, 75.84s/it]"
     ]
    },
    {
     "name": "stdout",
     "output_type": "stream",
     "text": [
      "[ Epochs 5 | 10 ] :  train Loss: 0.4451 Acc: 0.8461 val Loss: 0.6870 Acc: 0.7740\n"
     ]
    },
    {
     "name": "stderr",
     "output_type": "stream",
     "text": [
      "\r",
      "Epochs:  70%|███████   | 7/10 [08:46<03:45, 75.30s/it]"
     ]
    },
    {
     "name": "stdout",
     "output_type": "stream",
     "text": [
      "Saving the current best model. Previous best loss = 0.668228279876709 Current best loss = 0.4274372066497803\n",
      "[ Epochs 6 | 10 ] :  train Loss: 0.4084 Acc: 0.8603 val Loss: 0.4274 Acc: 0.8538\n"
     ]
    },
    {
     "name": "stderr",
     "output_type": "stream",
     "text": [
      "\r",
      "Epochs:  80%|████████  | 8/10 [09:59<02:28, 74.45s/it]"
     ]
    },
    {
     "name": "stdout",
     "output_type": "stream",
     "text": [
      "[ Epochs 7 | 10 ] :  train Loss: 0.3640 Acc: 0.8734 val Loss: 0.6149 Acc: 0.7998\n"
     ]
    },
    {
     "name": "stderr",
     "output_type": "stream",
     "text": [
      "\r",
      "Epochs:  90%|█████████ | 9/10 [11:12<01:14, 74.14s/it]"
     ]
    },
    {
     "name": "stdout",
     "output_type": "stream",
     "text": [
      "[ Epochs 8 | 10 ] :  train Loss: 0.3325 Acc: 0.8845 val Loss: 0.4299 Acc: 0.8576\n"
     ]
    },
    {
     "name": "stderr",
     "output_type": "stream",
     "text": [
      "Epochs: 100%|██████████| 10/10 [12:25<00:00, 74.58s/it]"
     ]
    },
    {
     "name": "stdout",
     "output_type": "stream",
     "text": [
      "[ Epochs 9 | 10 ] :  train Loss: 0.3107 Acc: 0.8932 val Loss: 0.5740 Acc: 0.8271\n"
     ]
    },
    {
     "name": "stderr",
     "output_type": "stream",
     "text": [
      "\n"
     ]
    }
   ],
   "source": [
    "train_model(model,data.dataloader(),num_epochs=10)"
   ]
  }
 ],
 "metadata": {
  "kernelspec": {
   "display_name": "Python 3",
   "language": "python",
   "name": "python3"
  },
  "language_info": {
   "codemirror_mode": {
    "name": "ipython",
    "version": 3
   },
   "file_extension": ".py",
   "mimetype": "text/x-python",
   "name": "python",
   "nbconvert_exporter": "python",
   "pygments_lexer": "ipython3",
   "version": "3.6.8"
  }
 },
 "nbformat": 4,
 "nbformat_minor": 2
}
